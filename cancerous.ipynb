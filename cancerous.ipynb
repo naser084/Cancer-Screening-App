{
 "cells": [
  {
   "cell_type": "code",
   "execution_count": 1,
   "id": "1e4a0ca6-838a-4532-a203-d09cb48c1ef9",
   "metadata": {},
   "outputs": [],
   "source": [
    "import pandas as pd"
   ]
  },
  {
   "cell_type": "code",
   "execution_count": 3,
   "id": "1e7cc61a-0080-4168-9e58-2404967ddc01",
   "metadata": {},
   "outputs": [],
   "source": [
    "import sklearn"
   ]
  },
  {
   "cell_type": "code",
   "execution_count": 13,
   "id": "70c90850-7268-4d40-8fee-9cbe5aa28753",
   "metadata": {},
   "outputs": [],
   "source": [
    "from sklearn.datasets import load_breast_cancer\n",
    "cancer_data=load_breast_cancer() "
   ]
  },
  {
   "cell_type": "code",
   "execution_count": 20,
   "id": "5525b7e9-212a-469e-b76f-598e8cb87950",
   "metadata": {},
   "outputs": [],
   "source": [
    "cancer_data = load_breast_cancer()\n",
    "df = pd.DataFrame(cancer_data.data, columns=cancer_data.feature_names)"
   ]
  },
  {
   "cell_type": "code",
   "execution_count": 22,
   "id": "302c0e6d-5a51-4860-a8e2-216755fbe858",
   "metadata": {},
   "outputs": [
    {
     "data": {
      "text/html": [
       "<div>\n",
       "<style scoped>\n",
       "    .dataframe tbody tr th:only-of-type {\n",
       "        vertical-align: middle;\n",
       "    }\n",
       "\n",
       "    .dataframe tbody tr th {\n",
       "        vertical-align: top;\n",
       "    }\n",
       "\n",
       "    .dataframe thead th {\n",
       "        text-align: right;\n",
       "    }\n",
       "</style>\n",
       "<table border=\"1\" class=\"dataframe\">\n",
       "  <thead>\n",
       "    <tr style=\"text-align: right;\">\n",
       "      <th></th>\n",
       "      <th>mean radius</th>\n",
       "      <th>mean texture</th>\n",
       "      <th>mean perimeter</th>\n",
       "      <th>mean area</th>\n",
       "      <th>mean smoothness</th>\n",
       "      <th>mean compactness</th>\n",
       "      <th>mean concavity</th>\n",
       "      <th>mean concave points</th>\n",
       "      <th>mean symmetry</th>\n",
       "      <th>mean fractal dimension</th>\n",
       "      <th>...</th>\n",
       "      <th>worst radius</th>\n",
       "      <th>worst texture</th>\n",
       "      <th>worst perimeter</th>\n",
       "      <th>worst area</th>\n",
       "      <th>worst smoothness</th>\n",
       "      <th>worst compactness</th>\n",
       "      <th>worst concavity</th>\n",
       "      <th>worst concave points</th>\n",
       "      <th>worst symmetry</th>\n",
       "      <th>worst fractal dimension</th>\n",
       "    </tr>\n",
       "  </thead>\n",
       "  <tbody>\n",
       "    <tr>\n",
       "      <th>0</th>\n",
       "      <td>17.99</td>\n",
       "      <td>10.38</td>\n",
       "      <td>122.80</td>\n",
       "      <td>1001.0</td>\n",
       "      <td>0.11840</td>\n",
       "      <td>0.27760</td>\n",
       "      <td>0.3001</td>\n",
       "      <td>0.14710</td>\n",
       "      <td>0.2419</td>\n",
       "      <td>0.07871</td>\n",
       "      <td>...</td>\n",
       "      <td>25.38</td>\n",
       "      <td>17.33</td>\n",
       "      <td>184.60</td>\n",
       "      <td>2019.0</td>\n",
       "      <td>0.1622</td>\n",
       "      <td>0.6656</td>\n",
       "      <td>0.7119</td>\n",
       "      <td>0.2654</td>\n",
       "      <td>0.4601</td>\n",
       "      <td>0.11890</td>\n",
       "    </tr>\n",
       "    <tr>\n",
       "      <th>1</th>\n",
       "      <td>20.57</td>\n",
       "      <td>17.77</td>\n",
       "      <td>132.90</td>\n",
       "      <td>1326.0</td>\n",
       "      <td>0.08474</td>\n",
       "      <td>0.07864</td>\n",
       "      <td>0.0869</td>\n",
       "      <td>0.07017</td>\n",
       "      <td>0.1812</td>\n",
       "      <td>0.05667</td>\n",
       "      <td>...</td>\n",
       "      <td>24.99</td>\n",
       "      <td>23.41</td>\n",
       "      <td>158.80</td>\n",
       "      <td>1956.0</td>\n",
       "      <td>0.1238</td>\n",
       "      <td>0.1866</td>\n",
       "      <td>0.2416</td>\n",
       "      <td>0.1860</td>\n",
       "      <td>0.2750</td>\n",
       "      <td>0.08902</td>\n",
       "    </tr>\n",
       "    <tr>\n",
       "      <th>2</th>\n",
       "      <td>19.69</td>\n",
       "      <td>21.25</td>\n",
       "      <td>130.00</td>\n",
       "      <td>1203.0</td>\n",
       "      <td>0.10960</td>\n",
       "      <td>0.15990</td>\n",
       "      <td>0.1974</td>\n",
       "      <td>0.12790</td>\n",
       "      <td>0.2069</td>\n",
       "      <td>0.05999</td>\n",
       "      <td>...</td>\n",
       "      <td>23.57</td>\n",
       "      <td>25.53</td>\n",
       "      <td>152.50</td>\n",
       "      <td>1709.0</td>\n",
       "      <td>0.1444</td>\n",
       "      <td>0.4245</td>\n",
       "      <td>0.4504</td>\n",
       "      <td>0.2430</td>\n",
       "      <td>0.3613</td>\n",
       "      <td>0.08758</td>\n",
       "    </tr>\n",
       "    <tr>\n",
       "      <th>3</th>\n",
       "      <td>11.42</td>\n",
       "      <td>20.38</td>\n",
       "      <td>77.58</td>\n",
       "      <td>386.1</td>\n",
       "      <td>0.14250</td>\n",
       "      <td>0.28390</td>\n",
       "      <td>0.2414</td>\n",
       "      <td>0.10520</td>\n",
       "      <td>0.2597</td>\n",
       "      <td>0.09744</td>\n",
       "      <td>...</td>\n",
       "      <td>14.91</td>\n",
       "      <td>26.50</td>\n",
       "      <td>98.87</td>\n",
       "      <td>567.7</td>\n",
       "      <td>0.2098</td>\n",
       "      <td>0.8663</td>\n",
       "      <td>0.6869</td>\n",
       "      <td>0.2575</td>\n",
       "      <td>0.6638</td>\n",
       "      <td>0.17300</td>\n",
       "    </tr>\n",
       "    <tr>\n",
       "      <th>4</th>\n",
       "      <td>20.29</td>\n",
       "      <td>14.34</td>\n",
       "      <td>135.10</td>\n",
       "      <td>1297.0</td>\n",
       "      <td>0.10030</td>\n",
       "      <td>0.13280</td>\n",
       "      <td>0.1980</td>\n",
       "      <td>0.10430</td>\n",
       "      <td>0.1809</td>\n",
       "      <td>0.05883</td>\n",
       "      <td>...</td>\n",
       "      <td>22.54</td>\n",
       "      <td>16.67</td>\n",
       "      <td>152.20</td>\n",
       "      <td>1575.0</td>\n",
       "      <td>0.1374</td>\n",
       "      <td>0.2050</td>\n",
       "      <td>0.4000</td>\n",
       "      <td>0.1625</td>\n",
       "      <td>0.2364</td>\n",
       "      <td>0.07678</td>\n",
       "    </tr>\n",
       "  </tbody>\n",
       "</table>\n",
       "<p>5 rows × 30 columns</p>\n",
       "</div>"
      ],
      "text/plain": [
       "   mean radius  mean texture  mean perimeter  mean area  mean smoothness  \\\n",
       "0        17.99         10.38          122.80     1001.0          0.11840   \n",
       "1        20.57         17.77          132.90     1326.0          0.08474   \n",
       "2        19.69         21.25          130.00     1203.0          0.10960   \n",
       "3        11.42         20.38           77.58      386.1          0.14250   \n",
       "4        20.29         14.34          135.10     1297.0          0.10030   \n",
       "\n",
       "   mean compactness  mean concavity  mean concave points  mean symmetry  \\\n",
       "0           0.27760          0.3001              0.14710         0.2419   \n",
       "1           0.07864          0.0869              0.07017         0.1812   \n",
       "2           0.15990          0.1974              0.12790         0.2069   \n",
       "3           0.28390          0.2414              0.10520         0.2597   \n",
       "4           0.13280          0.1980              0.10430         0.1809   \n",
       "\n",
       "   mean fractal dimension  ...  worst radius  worst texture  worst perimeter  \\\n",
       "0                 0.07871  ...         25.38          17.33           184.60   \n",
       "1                 0.05667  ...         24.99          23.41           158.80   \n",
       "2                 0.05999  ...         23.57          25.53           152.50   \n",
       "3                 0.09744  ...         14.91          26.50            98.87   \n",
       "4                 0.05883  ...         22.54          16.67           152.20   \n",
       "\n",
       "   worst area  worst smoothness  worst compactness  worst concavity  \\\n",
       "0      2019.0            0.1622             0.6656           0.7119   \n",
       "1      1956.0            0.1238             0.1866           0.2416   \n",
       "2      1709.0            0.1444             0.4245           0.4504   \n",
       "3       567.7            0.2098             0.8663           0.6869   \n",
       "4      1575.0            0.1374             0.2050           0.4000   \n",
       "\n",
       "   worst concave points  worst symmetry  worst fractal dimension  \n",
       "0                0.2654          0.4601                  0.11890  \n",
       "1                0.1860          0.2750                  0.08902  \n",
       "2                0.2430          0.3613                  0.08758  \n",
       "3                0.2575          0.6638                  0.17300  \n",
       "4                0.1625          0.2364                  0.07678  \n",
       "\n",
       "[5 rows x 30 columns]"
      ]
     },
     "execution_count": 22,
     "metadata": {},
     "output_type": "execute_result"
    }
   ],
   "source": [
    "df.head()"
   ]
  },
  {
   "cell_type": "markdown",
   "id": "eabde8c2-03c3-409a-b4cc-141484e34378",
   "metadata": {},
   "source": [
    "# scalling data"
   ]
  },
  {
   "cell_type": "code",
   "execution_count": 33,
   "id": "00c0015e-c712-4e49-be13-572c1c115f80",
   "metadata": {},
   "outputs": [],
   "source": [
    "from sklearn.preprocessing import StandardScaler\n",
    "sc=StandardScaler()\n"
   ]
  },
  {
   "cell_type": "code",
   "execution_count": 35,
   "id": "71e9ce69-c833-40cb-9ed0-4fcda9b93b7e",
   "metadata": {},
   "outputs": [],
   "source": [
    "scale_df=sc.fit_transform(df)"
   ]
  },
  {
   "cell_type": "code",
   "execution_count": 37,
   "id": "9bd37c7f-e1ba-45cb-9433-f36ab4f3130e",
   "metadata": {},
   "outputs": [
    {
     "data": {
      "text/plain": [
       "array([[ 1.09706398, -2.07333501,  1.26993369, ...,  2.29607613,\n",
       "         2.75062224,  1.93701461],\n",
       "       [ 1.82982061, -0.35363241,  1.68595471, ...,  1.0870843 ,\n",
       "        -0.24388967,  0.28118999],\n",
       "       [ 1.57988811,  0.45618695,  1.56650313, ...,  1.95500035,\n",
       "         1.152255  ,  0.20139121],\n",
       "       ...,\n",
       "       [ 0.70228425,  2.0455738 ,  0.67267578, ...,  0.41406869,\n",
       "        -1.10454895, -0.31840916],\n",
       "       [ 1.83834103,  2.33645719,  1.98252415, ...,  2.28998549,\n",
       "         1.91908301,  2.21963528],\n",
       "       [-1.80840125,  1.22179204, -1.81438851, ..., -1.74506282,\n",
       "        -0.04813821, -0.75120669]])"
      ]
     },
     "execution_count": 37,
     "metadata": {},
     "output_type": "execute_result"
    }
   ],
   "source": [
    "scale_df"
   ]
  },
  {
   "cell_type": "code",
   "execution_count": 39,
   "id": "689c6c2a-59be-4141-b2b2-14ffe9786564",
   "metadata": {},
   "outputs": [],
   "source": [
    "x= scale_df\n",
    "y=cancer_data.target"
   ]
  },
  {
   "cell_type": "code",
   "execution_count": 43,
   "id": "5348592f-781d-4c23-a954-bcd15224ab2e",
   "metadata": {},
   "outputs": [
    {
     "name": "stdout",
     "output_type": "stream",
     "text": [
      "['malignant' 'benign']\n"
     ]
    }
   ],
   "source": [
    "print(cancer_data.target_names)"
   ]
  },
  {
   "cell_type": "markdown",
   "id": "57115937-7bfc-427c-bc84-3f8b3b39e962",
   "metadata": {},
   "source": [
    "# Training"
   ]
  },
  {
   "cell_type": "code",
   "execution_count": 48,
   "id": "798b7def-85bc-40e9-83b5-5d9dc783ee81",
   "metadata": {},
   "outputs": [],
   "source": [
    "from sklearn.model_selection import train_test_split\n",
    "x_train,x_test,y_train,y_test=train_test_split(x,y,test_size=0.1,random_state=1)"
   ]
  },
  {
   "cell_type": "markdown",
   "id": "ce1fb365-6f10-471a-841b-5badea2b2ba3",
   "metadata": {},
   "source": [
    "# DL"
   ]
  },
  {
   "cell_type": "code",
   "execution_count": 63,
   "id": "fd414b08-0876-40b5-a54a-b39269f1c8eb",
   "metadata": {},
   "outputs": [],
   "source": [
    "from keras import Sequential\n",
    "model=Sequential()\n",
    "from keras.layers import Dense\n"
   ]
  },
  {
   "cell_type": "code",
   "execution_count": 65,
   "id": "f640de99-be85-4415-bdf8-dd2fffeef14f",
   "metadata": {},
   "outputs": [],
   "source": [
    "model.add(Dense(units=10,activation='relu'))"
   ]
  },
  {
   "cell_type": "code",
   "execution_count": 67,
   "id": "c07e9a4b-e252-4ee6-a677-fcd05e07b687",
   "metadata": {},
   "outputs": [],
   "source": [
    "model.add(Dense(units=20,activation='relu'))\n",
    "model.add(Dense(units=30,activation='relu'))\n",
    "model.add(Dense(units=35,activation='relu'))\n",
    "model.add(Dense(units=1,activation='sigmoid'))"
   ]
  },
  {
   "cell_type": "code",
   "execution_count": 69,
   "id": "f68f7bc2-c1d8-4707-8f52-a0dd61d96436",
   "metadata": {},
   "outputs": [],
   "source": [
    "model.compile(optimizer='Adam',loss='binary_crossentropy',metrics=['accuracy'])"
   ]
  },
  {
   "cell_type": "code",
   "execution_count": 107,
   "id": "63b0cb2b-b94a-4d64-bfc3-36ec1d4491ca",
   "metadata": {},
   "outputs": [
    {
     "name": "stdout",
     "output_type": "stream",
     "text": [
      "Epoch 1/20\n",
      "\u001b[1m14/14\u001b[0m \u001b[32m━━━━━━━━━━━━━━━━━━━━\u001b[0m\u001b[37m\u001b[0m \u001b[1m0s\u001b[0m 16ms/step - accuracy: 0.9927 - loss: 0.0208 - val_accuracy: 0.9808 - val_loss: 0.1483\n",
      "Epoch 2/20\n",
      "\u001b[1m14/14\u001b[0m \u001b[32m━━━━━━━━━━━━━━━━━━━━\u001b[0m\u001b[37m\u001b[0m \u001b[1m0s\u001b[0m 8ms/step - accuracy: 0.9928 - loss: 0.0187 - val_accuracy: 0.9808 - val_loss: 0.1518\n",
      "Epoch 3/20\n",
      "\u001b[1m14/14\u001b[0m \u001b[32m━━━━━━━━━━━━━━━━━━━━\u001b[0m\u001b[37m\u001b[0m \u001b[1m0s\u001b[0m 6ms/step - accuracy: 0.9955 - loss: 0.0107 - val_accuracy: 0.9808 - val_loss: 0.1519\n",
      "Epoch 4/20\n",
      "\u001b[1m14/14\u001b[0m \u001b[32m━━━━━━━━━━━━━━━━━━━━\u001b[0m\u001b[37m\u001b[0m \u001b[1m0s\u001b[0m 6ms/step - accuracy: 0.9955 - loss: 0.0136 - val_accuracy: 0.9808 - val_loss: 0.1516\n",
      "Epoch 5/20\n",
      "\u001b[1m14/14\u001b[0m \u001b[32m━━━━━━━━━━━━━━━━━━━━\u001b[0m\u001b[37m\u001b[0m \u001b[1m0s\u001b[0m 6ms/step - accuracy: 0.9933 - loss: 0.0193 - val_accuracy: 0.9808 - val_loss: 0.1568\n",
      "Epoch 6/20\n",
      "\u001b[1m14/14\u001b[0m \u001b[32m━━━━━━━━━━━━━━━━━━━━\u001b[0m\u001b[37m\u001b[0m \u001b[1m0s\u001b[0m 6ms/step - accuracy: 0.9978 - loss: 0.0083 - val_accuracy: 0.9808 - val_loss: 0.1606\n",
      "Epoch 7/20\n",
      "\u001b[1m14/14\u001b[0m \u001b[32m━━━━━━━━━━━━━━━━━━━━\u001b[0m\u001b[37m\u001b[0m \u001b[1m0s\u001b[0m 9ms/step - accuracy: 0.9997 - loss: 0.0063 - val_accuracy: 0.9808 - val_loss: 0.1583\n",
      "Epoch 8/20\n",
      "\u001b[1m14/14\u001b[0m \u001b[32m━━━━━━━━━━━━━━━━━━━━\u001b[0m\u001b[37m\u001b[0m \u001b[1m0s\u001b[0m 7ms/step - accuracy: 0.9992 - loss: 0.0073 - val_accuracy: 0.9808 - val_loss: 0.1607\n",
      "Epoch 9/20\n",
      "\u001b[1m14/14\u001b[0m \u001b[32m━━━━━━━━━━━━━━━━━━━━\u001b[0m\u001b[37m\u001b[0m \u001b[1m0s\u001b[0m 5ms/step - accuracy: 0.9985 - loss: 0.0073 - val_accuracy: 0.9808 - val_loss: 0.1627\n",
      "Epoch 10/20\n",
      "\u001b[1m14/14\u001b[0m \u001b[32m━━━━━━━━━━━━━━━━━━━━\u001b[0m\u001b[37m\u001b[0m \u001b[1m0s\u001b[0m 5ms/step - accuracy: 0.9979 - loss: 0.0073 - val_accuracy: 0.9808 - val_loss: 0.1621\n",
      "Epoch 11/20\n",
      "\u001b[1m14/14\u001b[0m \u001b[32m━━━━━━━━━━━━━━━━━━━━\u001b[0m\u001b[37m\u001b[0m \u001b[1m0s\u001b[0m 7ms/step - accuracy: 0.9996 - loss: 0.0040 - val_accuracy: 0.9808 - val_loss: 0.1650\n",
      "Epoch 12/20\n",
      "\u001b[1m14/14\u001b[0m \u001b[32m━━━━━━━━━━━━━━━━━━━━\u001b[0m\u001b[37m\u001b[0m \u001b[1m0s\u001b[0m 6ms/step - accuracy: 0.9933 - loss: 0.0142 - val_accuracy: 0.9808 - val_loss: 0.1626\n",
      "Epoch 13/20\n",
      "\u001b[1m14/14\u001b[0m \u001b[32m━━━━━━━━━━━━━━━━━━━━\u001b[0m\u001b[37m\u001b[0m \u001b[1m0s\u001b[0m 5ms/step - accuracy: 0.9994 - loss: 0.0050 - val_accuracy: 0.9808 - val_loss: 0.1674\n",
      "Epoch 14/20\n",
      "\u001b[1m14/14\u001b[0m \u001b[32m━━━━━━━━━━━━━━━━━━━━\u001b[0m\u001b[37m\u001b[0m \u001b[1m0s\u001b[0m 6ms/step - accuracy: 0.9992 - loss: 0.0047 - val_accuracy: 0.9808 - val_loss: 0.1673\n",
      "Epoch 15/20\n",
      "\u001b[1m14/14\u001b[0m \u001b[32m━━━━━━━━━━━━━━━━━━━━\u001b[0m\u001b[37m\u001b[0m \u001b[1m0s\u001b[0m 6ms/step - accuracy: 0.9994 - loss: 0.0041 - val_accuracy: 0.9808 - val_loss: 0.1681\n",
      "Epoch 16/20\n",
      "\u001b[1m14/14\u001b[0m \u001b[32m━━━━━━━━━━━━━━━━━━━━\u001b[0m\u001b[37m\u001b[0m \u001b[1m0s\u001b[0m 6ms/step - accuracy: 0.9963 - loss: 0.0086 - val_accuracy: 0.9808 - val_loss: 0.1683\n",
      "Epoch 17/20\n",
      "\u001b[1m14/14\u001b[0m \u001b[32m━━━━━━━━━━━━━━━━━━━━\u001b[0m\u001b[37m\u001b[0m \u001b[1m0s\u001b[0m 6ms/step - accuracy: 0.9990 - loss: 0.0037 - val_accuracy: 0.9808 - val_loss: 0.1705\n",
      "Epoch 18/20\n",
      "\u001b[1m14/14\u001b[0m \u001b[32m━━━━━━━━━━━━━━━━━━━━\u001b[0m\u001b[37m\u001b[0m \u001b[1m0s\u001b[0m 6ms/step - accuracy: 0.9953 - loss: 0.0088 - val_accuracy: 0.9808 - val_loss: 0.1700\n",
      "Epoch 19/20\n",
      "\u001b[1m14/14\u001b[0m \u001b[32m━━━━━━━━━━━━━━━━━━━━\u001b[0m\u001b[37m\u001b[0m \u001b[1m0s\u001b[0m 5ms/step - accuracy: 0.9953 - loss: 0.0079 - val_accuracy: 0.9808 - val_loss: 0.1684\n",
      "Epoch 20/20\n",
      "\u001b[1m14/14\u001b[0m \u001b[32m━━━━━━━━━━━━━━━━━━━━\u001b[0m\u001b[37m\u001b[0m \u001b[1m0s\u001b[0m 6ms/step - accuracy: 0.9979 - loss: 0.0055 - val_accuracy: 0.9808 - val_loss: 0.1737\n"
     ]
    },
    {
     "data": {
      "text/plain": [
       "<keras.src.callbacks.history.History at 0x2249bd58aa0>"
      ]
     },
     "execution_count": 107,
     "metadata": {},
     "output_type": "execute_result"
    }
   ],
   "source": [
    "model.fit(x_train,y_train,epochs=20,batch_size=33,validation_split=0.1)"
   ]
  },
  {
   "cell_type": "code",
   "execution_count": 77,
   "id": "3cf45e82-3995-47dd-aa89-22052b2b598d",
   "metadata": {},
   "outputs": [
    {
     "name": "stdout",
     "output_type": "stream",
     "text": [
      "\u001b[1m2/2\u001b[0m \u001b[32m━━━━━━━━━━━━━━━━━━━━\u001b[0m\u001b[37m\u001b[0m \u001b[1m0s\u001b[0m 109ms/step\n"
     ]
    }
   ],
   "source": [
    "y_pred=model.predict(x_test)"
   ]
  },
  {
   "cell_type": "code",
   "execution_count": 79,
   "id": "320ed9ba-8cf5-4362-bd25-1da7c60216b6",
   "metadata": {},
   "outputs": [
    {
     "name": "stdout",
     "output_type": "stream",
     "text": [
      "[[7.6611263e-01]\n",
      " [6.6411505e-03]\n",
      " [9.9563044e-01]\n",
      " [5.2420935e-03]\n",
      " [5.9498167e-01]\n",
      " [6.9189811e-04]\n",
      " [1.3858326e-04]\n",
      " [1.5917359e-01]\n",
      " [9.9955440e-01]\n",
      " [9.7185814e-01]\n",
      " [9.9530613e-01]\n",
      " [1.1170402e-02]\n",
      " [1.5515331e-03]\n",
      " [9.8895288e-01]\n",
      " [8.7222070e-01]\n",
      " [5.3328669e-01]\n",
      " [9.9818569e-01]\n",
      " [9.9774688e-01]\n",
      " [9.9998111e-01]\n",
      " [2.1718587e-04]\n",
      " [9.9470133e-01]\n",
      " [9.9654800e-01]\n",
      " [5.9503618e-05]\n",
      " [9.9540877e-01]\n",
      " [5.7656557e-04]\n",
      " [9.9908626e-01]\n",
      " [9.1051382e-01]\n",
      " [3.3944150e-05]\n",
      " [8.8097796e-13]\n",
      " [3.4003247e-02]\n",
      " [2.9445761e-09]\n",
      " [9.9949414e-01]\n",
      " [1.3268501e-06]\n",
      " [1.4892800e-02]\n",
      " [9.9951828e-01]\n",
      " [9.8954815e-01]\n",
      " [1.0752231e-02]\n",
      " [9.2563927e-01]\n",
      " [2.3508789e-01]\n",
      " [9.9865139e-01]\n",
      " [9.9999416e-01]\n",
      " [9.3329120e-01]\n",
      " [9.9454337e-01]\n",
      " [9.9341893e-01]\n",
      " [9.9423820e-01]\n",
      " [1.8782477e-05]\n",
      " [9.9999917e-01]\n",
      " [9.9994552e-01]\n",
      " [9.4014078e-01]\n",
      " [5.0114426e-03]\n",
      " [1.4033471e-04]\n",
      " [3.7349984e-11]\n",
      " [9.9782312e-01]\n",
      " [9.9822223e-01]\n",
      " [9.9993265e-01]\n",
      " [9.9407655e-01]\n",
      " [9.9416822e-01]]\n"
     ]
    }
   ],
   "source": [
    "print(y_pred)"
   ]
  },
  {
   "cell_type": "code",
   "execution_count": 99,
   "id": "6eb597be-d4af-41d8-9cc9-f9749aaeecbc",
   "metadata": {},
   "outputs": [],
   "source": [
    "def predict_cancer(user_input):\n",
    "    # Convert user input to a DataFrame\n",
    "user_data = pd.DataFrame([user_input], columns=cancer_data.feature_names)"
   ]
  },
  {
   "cell_type": "code",
   "execution_count": 113,
   "id": "bd9ff7c7-ad97-4a8c-ba46-5ff7b0aedf58",
   "metadata": {},
   "outputs": [
    {
     "name": "stdout",
     "output_type": "stream",
     "text": [
      "\u001b[1m1/1\u001b[0m \u001b[32m━━━━━━━━━━━━━━━━━━━━\u001b[0m\u001b[37m\u001b[0m \u001b[1m0s\u001b[0m 35ms/step\n",
      "The prediction based on user input is: Cancerous\n"
     ]
    }
   ],
   "source": [
    "def predict_cancer(user_input):\n",
    "    # Convert user input to a DataFrame\n",
    "    user_data = pd.DataFrame([user_input], columns=cancer_data.feature_names)\n",
    "    \n",
    "    # Standardize the input\n",
    "    user_data_scaled = sc.transform(user_data)\n",
    "    \n",
    "    # Make a prediction\n",
    "    prediction = model.predict(user_data_scaled)\n",
    "    \n",
    "    # Convert prediction to a binary outcome\n",
    "    prediction_binary = 1 if prediction[0][0] > 0.5 else 0\n",
    "    \n",
    "    # Map the result to a human-readable format\n",
    "    result = \"Cancerous\" if prediction_binary == 1 else \"Not Cancerous\"\n",
    "    \n",
    "    return result\n",
    "\n",
    "# Example user input (you can replace this with dynamic input gathering)\n",
    "user_input_example = {\n",
    "    'mean radius': 14.0,\n",
    "    'mean texture': 20.0,\n",
    "    'mean perimeter': 90.0,\n",
    "    'mean area': 600.0,\n",
    "    'mean smoothness': 0.1,\n",
    "    'mean compactness': 0.1,\n",
    "    'mean concavity': 0.08,\n",
    "    'mean concave points': 0.05,\n",
    "    'mean symmetry': 0.18,\n",
    "    'mean fractal dimension': 0.06,\n",
    "    'radius error': 0.3,\n",
    "    'texture error': 1.5,\n",
    "    'perimeter error': 2.0,\n",
    "    'area error': 15.0,\n",
    "    'smoothness error': 0.005,\n",
    "    'compactness error': 0.02,\n",
    "    'concavity error': 0.02,\n",
    "    'concave points error': 0.01,\n",
    "    'symmetry error': 0.03,\n",
    "    'fractal dimension error': 0.002,\n",
    "    'worst radius': 16.0,\n",
    "    'worst texture': 25.0,\n",
    "    'worst perimeter': 100.0,\n",
    "    'worst area': 700.0,\n",
    "    'worst smoothness': 0.15,\n",
    "    'worst compactness': 0.25,\n",
    "    'worst concavity': 0.2,\n",
    "    'worst concave points': 0.1,\n",
    "    'worst symmetry': 0.25,\n",
    "    'worst fractal dimension': 0.08\n",
    "}\n",
    "\n",
    "# Predict using the example input\n",
    "prediction_result = predict_cancer(user_input_example)\n",
    "print(f\"The prediction based on user input is: {prediction_result}\")"
   ]
  },
  {
   "cell_type": "code",
   "execution_count": 117,
   "id": "840238ac-4643-4e01-8d00-f68e2a420618",
   "metadata": {},
   "outputs": [
    {
     "name": "stdout",
     "output_type": "stream",
     "text": [
      "\u001b[1m1/1\u001b[0m \u001b[32m━━━━━━━━━━━━━━━━━━━━\u001b[0m\u001b[37m\u001b[0m \u001b[1m0s\u001b[0m 56ms/step\n",
      "The prediction based on user input is: Cancerous\n"
     ]
    }
   ],
   "source": [
    "user_input_example = {\n",
    "    'mean radius': 20.0,\n",
    "    'mean texture': 10.0,\n",
    "    'mean perimeter': 60.0,\n",
    "    'mean area': 500.0,\n",
    "    'mean smoothness': 0.5,\n",
    "    'mean compactness': 0.2,\n",
    "    'mean concavity': 0.18,\n",
    "    'mean concave points': 0.15,\n",
    "    'mean symmetry': 0.08,\n",
    "    'mean fractal dimension': 0.16,\n",
    "    'radius error': 0.13,\n",
    "    'texture error': 1.25,\n",
    "    'perimeter error': 2.10,\n",
    "    'area error': 15.10,\n",
    "    'smoothness error': 0.015,\n",
    "    'compactness error': 0.12,\n",
    "    'concavity error': 0.12,\n",
    "    'concave points error': 0.21,\n",
    "    'symmetry error': 0.13,\n",
    "    'fractal dimension error': 0.012,\n",
    "    'worst radius': 19.0,\n",
    "    'worst texture': 29.0,\n",
    "    'worst perimeter': 200.0,\n",
    "    'worst area': 600.0,\n",
    "    'worst smoothness': 0.19,\n",
    "    'worst compactness': 0.29,\n",
    "    'worst concavity': 0.12,\n",
    "    'worst concave points': 0.14,\n",
    "    'worst symmetry': 0.29,\n",
    "    'worst fractal dimension': 0.18\n",
    "}\n",
    "\n",
    "# Predict using the example input\n",
    "prediction_result = predict_cancer(user_input_example)\n",
    "print(f\"The prediction based on user input is: {prediction_result}\")"
   ]
  },
  {
   "cell_type": "code",
   "execution_count": 124,
   "id": "ff04c18b-e8f6-45c4-b369-9a29de2c3493",
   "metadata": {},
   "outputs": [
    {
     "data": {
      "text/plain": [
       "['C:\\\\Users\\\\mohammed naser\\\\OneDrive\\\\Desktop\\\\cancer_detection\\\\scaler.h5']"
      ]
     },
     "execution_count": 124,
     "metadata": {},
     "output_type": "execute_result"
    }
   ],
   "source": [
    "import joblib\n",
    "joblib.dump(sc,r\"C:\\Users\\mohammed naser\\OneDrive\\Desktop\\cancer_detection\\scaler.h5\")"
   ]
  },
  {
   "cell_type": "code",
   "execution_count": 126,
   "id": "959408be-da0b-4c25-94a8-0410c2fc9503",
   "metadata": {},
   "outputs": [
    {
     "name": "stderr",
     "output_type": "stream",
     "text": [
      "WARNING:absl:You are saving your model as an HDF5 file via `model.save()` or `keras.saving.save_model(model)`. This file format is considered legacy. We recommend using instead the native Keras format, e.g. `model.save('my_model.keras')` or `keras.saving.save_model(model, 'my_model.keras')`. \n"
     ]
    }
   ],
   "source": [
    "model.save('cancer_prediction_model.h5') "
   ]
  },
  {
   "cell_type": "code",
   "execution_count": null,
   "id": "84e62a81-44c4-4e12-b828-26dbbcd96171",
   "metadata": {},
   "outputs": [],
   "source": []
  }
 ],
 "metadata": {
  "kernelspec": {
   "display_name": "Python 3 (ipykernel)",
   "language": "python",
   "name": "python3"
  },
  "language_info": {
   "codemirror_mode": {
    "name": "ipython",
    "version": 3
   },
   "file_extension": ".py",
   "mimetype": "text/x-python",
   "name": "python",
   "nbconvert_exporter": "python",
   "pygments_lexer": "ipython3",
   "version": "3.12.4"
  }
 },
 "nbformat": 4,
 "nbformat_minor": 5
}
